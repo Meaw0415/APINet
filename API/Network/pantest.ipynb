{
 "cells": [
  {
   "cell_type": "code",
   "execution_count": 54,
   "metadata": {},
   "outputs": [],
   "source": [
    "import pandas as pd"
   ]
  },
  {
   "cell_type": "code",
   "execution_count": 55,
   "metadata": {},
   "outputs": [],
   "source": [
    "xls_path = \"C:/Users/asus/Desktop/API/dataset/test.xlsx\""
   ]
  },
  {
   "cell_type": "code",
   "execution_count": 56,
   "metadata": {},
   "outputs": [],
   "source": [
    "api_dict = {}\n",
    "        \n",
    "df = pd.read_excel(xls_path)\n",
    "for index,row in df.iterrows():\n",
    "    temp_dir={\n",
    "            \"id\":-1,\n",
    "            \"apt_name\":-1,\n",
    "            \"apt_sequence\":-1,\n",
    "            \"protein_name\":-1,\n",
    "            \"protein_sequence\":-1,\n",
    "            \"class\":-1\n",
    "        }\n",
    "    temp_dir[\"id\"] = row[\"id\"]\n",
    "    temp_dir[\"apt_name\"] = row[\"apt\"]\n",
    "    temp_dir[\"apt_sequence\"] = row[\"apt_sequence\"]\n",
    "    temp_dir[\"protein_name\"] = row[\"protein\"]\n",
    "    temp_dir[\"protein_sequence\"] = row[\"protein_sequence\"]\n",
    "    if(row[\"class\"]==\"positive\"):\n",
    "        temp_dir[\"class\"] = 1\n",
    "    else:\n",
    "        temp_dir[\"class\"] = 0\n",
    "    \n",
    "    api_dict[index] = temp_dir\n",
    "\n",
    "    "
   ]
  },
  {
   "cell_type": "code",
   "execution_count": 57,
   "metadata": {},
   "outputs": [
    {
     "name": "stdout",
     "output_type": "stream",
     "text": [
      "{'id': 4, 'apt_name': '17956125-high mobility group protein AT-hook 2-4', 'apt_sequence': 'ATATTTATATTTATT', 'protein_name': 'high_mobility_group_protein_AT-hook_2', 'protein_sequence': 'MSARGEEAAGEASGSQEQPEPALAEPKKRGPGRPRKPQQEPTGEPVPKRPRGRPKGSKNKGPSKAAQKKAETTGEKRPRGRPRKWPQQVVQEKPAQEEEEEEEEEEAEED', 'class': 1}\n"
     ]
    }
   ],
   "source": [
    "print(api_dict[3])"
   ]
  }
 ],
 "metadata": {
  "kernelspec": {
   "display_name": "Python 3.7.0 ('base')",
   "language": "python",
   "name": "python3"
  },
  "language_info": {
   "codemirror_mode": {
    "name": "ipython",
    "version": 3
   },
   "file_extension": ".py",
   "mimetype": "text/x-python",
   "name": "python",
   "nbconvert_exporter": "python",
   "pygments_lexer": "ipython3",
   "version": "3.7.0"
  },
  "orig_nbformat": 4,
  "vscode": {
   "interpreter": {
    "hash": "88279d2366fe020547cde40dd65aa0e3aa662a6ec1f3ca12d88834876c85e1a6"
   }
  }
 },
 "nbformat": 4,
 "nbformat_minor": 2
}
